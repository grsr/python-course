{
 "cells": [
  {
   "cell_type": "markdown",
   "metadata": {},
   "source": [
    "# An introduction to solving biological problems with Python\n",
    "\n",
    "## Session 2.4: BioPython"
   ]
  },
  {
   "cell_type": "markdown",
   "metadata": {},
   "source": [
    "## Using third party library, BioPython"
   ]
  },
  {
   "cell_type": "markdown",
   "metadata": {},
   "source": [
    "### Sequence manipulation"
   ]
  },
  {
   "cell_type": "code",
   "execution_count": null,
   "metadata": {
    "collapsed": false
   },
   "outputs": [],
   "source": [
    "# Creating sequence\n",
    "from Bio.Seq import Seq\n",
    "my_seq = Seq(\"AGTACACTGGT\")\n",
    "print(my_seq)\n",
    "print(my_seq[10])\n",
    "print(my_seq[1:5])\n",
    "print(len(my_seq))\n",
    "print(my_seq.count( \"A\" ))"
   ]
  },
  {
   "cell_type": "code",
   "execution_count": null,
   "metadata": {
    "collapsed": false
   },
   "outputs": [],
   "source": [
    "# Calculate the molecular weight\n",
    "from Bio.SeqUtils import GC, molecular_weight\n",
    "print(GC( my_seq ))\n",
    "print(molecular_weight( my_seq ))"
   ]
  },
  {
   "cell_type": "code",
   "execution_count": null,
   "metadata": {
    "collapsed": false
   },
   "outputs": [],
   "source": [
    "from Bio.SeqUtils import seq3\n",
    "print(seq3( my_seq ))"
   ]
  },
  {
   "cell_type": "code",
   "execution_count": null,
   "metadata": {
    "collapsed": false
   },
   "outputs": [],
   "source": [
    "from Bio.Alphabet import IUPAC\n",
    "my_dna = Seq(\"AGTACATGACTGGTTTAG\", IUPAC.unambiguous_dna)\n",
    "print(my_dna)\n",
    "print(my_dna.alphabet)"
   ]
  },
  {
   "cell_type": "code",
   "execution_count": null,
   "metadata": {
    "collapsed": false
   },
   "outputs": [],
   "source": [
    "my_dna.complement()"
   ]
  },
  {
   "cell_type": "code",
   "execution_count": null,
   "metadata": {
    "collapsed": false
   },
   "outputs": [],
   "source": [
    "my_dna.reverse_complement()"
   ]
  },
  {
   "cell_type": "code",
   "execution_count": null,
   "metadata": {
    "collapsed": false
   },
   "outputs": [],
   "source": [
    "my_dna.translate()"
   ]
  },
  {
   "cell_type": "markdown",
   "metadata": {},
   "source": [
    "### FASTA files"
   ]
  },
  {
   "cell_type": "code",
   "execution_count": null,
   "metadata": {
    "collapsed": false
   },
   "outputs": [],
   "source": [
    "with open( \"data/glpa.fa\" ) as fileObj:\n",
    "    print(fileObj.read())"
   ]
  },
  {
   "cell_type": "code",
   "execution_count": null,
   "metadata": {
    "collapsed": false
   },
   "outputs": [],
   "source": [
    "# Reading FASTA files\n",
    "from Bio import SeqIO\n",
    "\n",
    "fileObj = open( \"data/glpa.fa\", \"rU\" )\n",
    "\n",
    "for protein in SeqIO.parse(fileObj, 'fasta'):\n",
    "  print(protein.id)\n",
    "  print(protein.seq)"
   ]
  },
  {
   "cell_type": "code",
   "execution_count": null,
   "metadata": {
    "collapsed": false
   },
   "outputs": [],
   "source": [
    "# Writing FASTA files\n",
    "from Bio.SeqRecord import SeqRecord\n",
    "from Bio.Seq import Seq\n",
    "from Bio.Alphabet import IUPAC\n",
    "\n",
    "sequence = 'MYGKIIFVLLLSEIVSISASSTTGVAMHTSTSSSVTKSYISSQTNDTHKRDTYAATPRAHEVSEISVRTVYPPEEETGERVQLAHHFSEPEITLIIFG'\n",
    "\n",
    "fileObj = open( \"biopython.fa\", \"w\")\n",
    "  \n",
    "seqObj = Seq(sequence, IUPAC.protein)\n",
    "proteinObjs = [SeqRecord(seqObj, id=\"MYID\", description='my description'),]\n",
    "\n",
    "SeqIO.write(proteinObjs, fileObj,  'fasta')\n",
    "\n",
    "fileObj.close()\n",
    "\n",
    "with open( \"biopython.fa\" ) as fileObj:\n",
    "    print(fileObj.read())"
   ]
  },
  {
   "cell_type": "code",
   "execution_count": null,
   "metadata": {
    "collapsed": false
   },
   "outputs": [],
   "source": [
    "# Read FASTA file from NCBI GenBank\n",
    "from Bio import Entrez\n",
    "\n",
    "Entrez.email = 'A.N.Other@example.com'\n",
    "socketObj = Entrez.efetch(db=\"protein\", rettype=\"fasta\", id=\"71066805\")\n",
    "dnaObj = SeqIO.read(socketObj, \"fasta\")\n",
    "socketObj.close()\n",
    "\n",
    "print(dnaObj.description)\n",
    "print(dnaObj.seq)"
   ]
  },
  {
   "cell_type": "code",
   "execution_count": null,
   "metadata": {
    "collapsed": false
   },
   "outputs": [],
   "source": [
    "# Read SWISSPROT record\n",
    "from Bio import ExPASy\n",
    "\n",
    "socketObj = ExPASy.get_sprot_raw('HBB_HUMAN')\n",
    "proteinObj = SeqIO.read(socketObj, \"swiss\")\n",
    "socketObj.close()\n",
    "\n",
    "print(proteinObj.description)\n",
    "print(proteinObj.seq)"
   ]
  },
  {
   "cell_type": "markdown",
   "metadata": {},
   "source": [
    "## Exercises"
   ]
  },
  {
   "cell_type": "code",
   "execution_count": 1,
   "metadata": {
    "collapsed": true
   },
   "outputs": [],
   "source": [
    "# add BioPython exercise for the reverse complement function \n",
    "# by writing second function using BioPython doing the same thing"
   ]
  }
 ],
 "metadata": {
  "kernelspec": {
   "display_name": "Python 3",
   "language": "python",
   "name": "python3"
  },
  "language_info": {
   "codemirror_mode": {
    "name": "ipython",
    "version": 3
   },
   "file_extension": ".py",
   "mimetype": "text/x-python",
   "name": "python",
   "nbconvert_exporter": "python",
   "pygments_lexer": "ipython3"
  }
 },
 "nbformat": 4,
 "nbformat_minor": 0
}
