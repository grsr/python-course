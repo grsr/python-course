{
 "cells": [
  {
   "cell_type": "markdown",
   "metadata": {},
   "source": [
    "# An introduction to solving biological problems with Python\n",
    "\n",
    "## Session 2.2: Exercices\n"
   ]
  },
  {
   "cell_type": "markdown",
   "metadata": {},
   "source": [
    "## Bio exercises"
   ]
  },
  {
   "cell_type": "markdown",
   "metadata": {},
   "source": [
    "### 1) Translate RNA sequence to protein sequence"
   ]
  },
  {
   "cell_type": "markdown",
   "metadata": {},
   "source": [
    "Write a function that translates a RNA sequence into a sequence of amino acids. The function should take 2 arguments, a RNA sequence and a dictionary that defines the standard genetic code.\n",
    "\n",
    "For mapping codons to amino acids you can use the dictionary `standardGeneticCode` defined below. Notice that it only maps strings in upper case, so make sure that `codon` is in upper case before your look up. You can translate codon into an upper case with the `upper()` method: `codon = codon.upper()`\n",
    "\n",
    "`standardGeneticCode = { \n",
    "          'UUU':'Phe', 'UUC':'Phe', 'UCU':'Ser', 'UCC':'Ser',\n",
    "          'UAU':'Tyr', 'UAC':'Tyr', 'UGU':'Cys', 'UGC':'Cys',\n",
    "          'UUA':'Leu', 'UCA':'Ser', 'UAA':None,  'UGA':None,\n",
    "          'UUG':'Leu', 'UCG':'Ser', 'UAG':None,  'UGG':'Trp',\n",
    "          'CUU':'Leu', 'CUC':'Leu', 'CCU':'Pro', 'CCC':'Pro',\n",
    "          'CAU':'His', 'CAC':'His', 'CGU':'Arg', 'CGC':'Arg',\n",
    "          'CUA':'Leu', 'CUG':'Leu', 'CCA':'Pro', 'CCG':'Pro',\n",
    "          'CAA':'Gln', 'CAG':'Gln', 'CGA':'Arg', 'CGG':'Arg',\n",
    "          'AUU':'Ile', 'AUC':'Ile', 'ACU':'Thr', 'ACC':'Thr',\n",
    "          'AAU':'Asn', 'AAC':'Asn', 'AGU':'Ser', 'AGC':'Ser',\n",
    "          'AUA':'Ile', 'ACA':'Thr', 'AAA':'Lys', 'AGA':'Arg',\n",
    "          'AUG':'Met', 'ACG':'Thr', 'AAG':'Lys', 'AGG':'Arg',\n",
    "          'GUU':'Val', 'GUC':'Val', 'GCU':'Ala', 'GCC':'Ala',\n",
    "          'GAU':'Asp', 'GAC':'Asp', 'GGU':'Gly', 'GGC':'Gly',\n",
    "          'GUA':'Val', 'GUG':'Val', 'GCA':'Ala', 'GCG':'Ala', \n",
    "          'GAA':'Glu', 'GAG':'Glu', 'GGA':'Gly', 'GGG':'Gly'}`"
   ]
  },
  {
   "cell_type": "markdown",
   "metadata": {},
   "source": [
    "### 2) Sliding window analysis of GC content along chain"
   ]
  },
  {
   "cell_type": "markdown",
   "metadata": {},
   "source": [
    "Write a function that calculates overlapping sliding windows along a DNA sequence, from start to end, and returns the GC content in each window. The function should take two arguments, the DNA sequence and the size of the sliding window.\n",
    "\n",
    "You can use the `calculate_windows` function defined below:"
   ]
  },
  {
   "cell_type": "code",
   "execution_count": null,
   "metadata": {
    "collapsed": false
   },
   "outputs": [],
   "source": [
    "def calculate_windows(seq, winSize): \n",
    "    \"\"\"This function takes a given sequence (seq) and a sliding window size (WinSize)\n",
    "    and returns all sub-sequences acording to the size of the sliding window.\n",
    "    Notice that the sub-sequences are overlapping and their size is fixed according to winSize.\n",
    "    \"\"\" \n",
    "    if winSize <= 0:\n",
    "        raise Exception(\"Window size must be a positive integer\")\n",
    "    if winSize > len(seq): \n",
    "        raise Exception(\"Window size is larger than sequence length\")\n",
    "    result = []\n",
    "    nrWindows = len(seq)-winSize+1\n",
    "    for i in range(nrWindows):\n",
    "        subSeq = seq[i:i+winSize]\n",
    "        result.append(subSeq)\n",
    "    return result"
   ]
  },
  {
   "cell_type": "markdown",
   "metadata": {},
   "source": [
    "__For plotting:__\n",
    "\n",
    "You can plot the GC content along the DNA sequence using the `matplotlib` plotting library:"
   ]
  },
  {
   "cell_type": "code",
   "execution_count": null,
   "metadata": {
    "collapsed": false
   },
   "outputs": [],
   "source": [
    "%matplotlib inline\n",
    "\n",
    "gcResults = [0.5, 0.5, 0.6, 0.5, 0.5, 0.5, 0.5, 0.5, 0.5, 0.6, 0.5, 0.6, 0.6, 0.6, 0.6, 0.6, 0.5, 0.5, 0.5, 0.5, 0.5, 0.5, 0.5, 0.6, 0.6, 0.6, 0.6, 0.5, 0.6, 0.5, 0.6, 0.6, 0.6, 0.6, 0.5, 0.6, 0.6, 0.7, 0.7, 0.8, 0.8, 0.8, 0.7, 0.6, 0.7, 0.7, 0.7, 0.7]\n",
    "from matplotlib import pyplot\n",
    "pyplot.plot( gcResults )\n",
    "pyplot.axis([0, 50, .45, .85])\n",
    "pyplot.ylabel('%GC')\n",
    "pyplot.title('GC plot')\n",
    "pyplot.text(12, .7, \"this is some text!\")\n",
    "pyplot.show()"
   ]
  },
  {
   "cell_type": "markdown",
   "metadata": {},
   "source": [
    "### 3) Sliding window analysis of hydrophobicity"
   ]
  },
  {
   "cell_type": "markdown",
   "metadata": {},
   "source": [
    "Similarly to the exercise above, write a function that calculates overlapping sliding windows along a protein sequence, from start to end, and returns the `sum` of the aminoacids hydrophobicity scale in each window. You can use the same `calculate_windows` function defined in the previous exercise.\n",
    "\n",
    "The dictionary `gesScale` contains the hydrophobicity scale for each aminoacid:\n",
    "\n",
    "`gesScale = {'F': -3.7, 'M': -3.4, 'I': -3.1,' L': -2.8, 'V': -2.6,\n",
    "            'C': -2.0, 'W': -1.9, 'A': -1.6,' T': -1.2, 'G': -1.0,\n",
    "            'S': -0.6, 'P': 0.2, 'Y': 0.7, 'H': 3.0, 'Q': 4.1,\n",
    "            'N': 4.8, 'E': 8.2, 'K': 8.8, 'D': 9.2,' R': 12.3}`"
   ]
  },
  {
   "cell_type": "markdown",
   "metadata": {},
   "source": [
    "__For plotting:__\n",
    "\n",
    "You can plot the hydrophobicity scores using the `matplotlib` plotting library:"
   ]
  },
  {
   "cell_type": "code",
   "execution_count": null,
   "metadata": {
    "collapsed": false
   },
   "outputs": [],
   "source": [
    "%matplotlib inline\n",
    "\n",
    "scores = [11.499999999999998, 23.4, 7.400000000000001, 12.700000000000001, 16.700000000000003, 14.000000000000004, 12.400000000000002, 6.600000000000002, 18.2, 11.3, 7.400000000000001, 9.0, 9.0, 4.300000000000001, 15.899999999999999, 31.6, 31.599999999999998, 35.5, 39.6, 39.599999999999994, 42.3, 45.8, 53.39999999999999, 42.400000000000006, 45.400000000000006, 46.00000000000001, 44.10000000000001, 46.300000000000004, 39.4, 35.4, 27.199999999999996]\n",
    "from matplotlib import pyplot\n",
    "pyplot.plot( scores )\n",
    "pyplot.grid(True)\n",
    "pyplot.show()"
   ]
  }
 ],
 "metadata": {
  "kernelspec": {
   "display_name": "Python 3",
   "language": "python",
   "name": "python3"
  },
  "language_info": {
   "codemirror_mode": {
    "name": "ipython",
    "version": 3
   },
   "file_extension": ".py",
   "mimetype": "text/x-python",
   "name": "python",
   "nbconvert_exporter": "python",
   "pygments_lexer": "ipython3"
  }
 },
 "nbformat": 4,
 "nbformat_minor": 0
}
