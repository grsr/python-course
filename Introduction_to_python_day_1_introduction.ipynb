{
 "cells": [
  {
   "cell_type": "markdown",
   "metadata": {
    "slideshow": {
     "slide_type": "slide"
    }
   },
   "source": [
    "# An introduction to solving biological problems with Python"
   ]
  },
  {
   "cell_type": "markdown",
   "metadata": {
    "slideshow": {
     "slide_type": "-"
    }
   },
   "source": [
    "## Presenters for 5-6 December 2016\n",
    "- Mukarram Hossain, Cambridge\n",
    "- Anne Pajon, CRUK Cambridge Institute"
   ]
  },
  {
   "cell_type": "markdown",
   "metadata": {
    "slideshow": {
     "slide_type": "slide"
    }
   },
   "source": [
    "## Learning objectives\n",
    "- **Recall** how to print, create variables and save Python code in files\n",
    "- **List** the most common data types in Python\n",
    "- **Explain** how to write conditions and loops in Python\n",
    "- **Use and compare** these concepts in different code examples \n",
    "- **Propose and create** solutions using these concepts in different exercises"
   ]
  },
  {
   "cell_type": "markdown",
   "metadata": {
    "slideshow": {
     "slide_type": "slide"
    }
   },
   "source": [
    "## Course schedule - day one\n",
    "\n",
    "- 09:30-09:45: [0h15] **Introduction**\n",
    "- 09:45-11:15: [1h30] **Session 1** - Print, Variables, Simple data types, Arithmetic and Saving code in files\n",
    "- 11:15-11:30: *break*\n",
    "- 11:30-13:00: [1h30] **Session 2** - Collections: Lists, String and Dictionnaries\n",
    "- 13:00-14:00: *lunch break*\n",
    "- 14:00-15:00: [1h00] **Session 3** - Conditional execution\n",
    "- 15:00-15:15: *break*\n",
    "- 15:15-16:45: [1h30] **Session 4** - Loops"
   ]
  },
  {
   "cell_type": "markdown",
   "metadata": {
    "slideshow": {
     "slide_type": "slide"
    }
   },
   "source": [
    "## Course schedule - day two\n",
    "\n",
    "- Functions, Files and BioPython"
   ]
  },
  {
   "cell_type": "markdown",
   "metadata": {
    "slideshow": {
     "slide_type": "slide"
    }
   },
   "source": [
    "## Course materials\n",
    "\n",
    "- There is a course webpage with links to the materials, example solutions to the exercises etc.:\n",
    "    - http://pycam.github.io\n",
    "- All course materiel is available on GitHub https://github.com/pycam\n",
    "- We’d like you to follow along with the example code as we go through the material, and attempt the exercises to practice what you’ve learned\n",
    "- Questions are welcome at any point!\n",
    "- If you have specific projects/problems you like to use Python for we are happy to (try to) help during the exercises\n"
   ]
  },
  {
   "cell_type": "markdown",
   "metadata": {
    "slideshow": {
     "slide_type": "slide"
    }
   },
   "source": [
    "## What is *Python*?\n",
    "\n",
    "- Python is a *dynamic, interpreted* general purpose programming language initially created by Guido van Rossum in 1991\n",
    "- It is a powerful language that supports several popular programming paradigms:\n",
    "    - procedural\n",
    "    - object-oriented\n",
    "    - functional\n",
    "- Python is widely used in bioinformatics and scientific computing, as well as many other fields and in industry\n",
    "- Python is available on all popular operating systems\n",
    "    - Macs\n",
    "    - Windows\n",
    "    - Linux"
   ]
  },
  {
   "cell_type": "markdown",
   "metadata": {
    "slideshow": {
     "slide_type": "slide"
    }
   },
   "source": [
    "## The Python programming language\n",
    "\n",
    "- Python is considered to come with \"batteries included\" and the <a href=\"https://docs.python.org/3.5/library/\">standard library</a> (some of which we will see in this course) provides built-in support for lots of common tasks:\n",
    "    - numerical & mathematical functions \n",
    "    - interacting with files and the operating system\n",
    "    - ...\n",
    "\n",
    "- There is also a wide range of external libraries for areas not covered in the standard library, such as [Pandas](http://pandas.pydata.org/) the Python Data Analysis Library and the [BioPython](http://biopython.org/) Library which provides tools for bioinformatics - we look at this tomorrow"
   ]
  },
  {
   "cell_type": "markdown",
   "metadata": {
    "slideshow": {
     "slide_type": "slide"
    }
   },
   "source": [
    "## Getting started\n",
    "\n",
    "- Python is an *interpreted* language, this means that your computer does not run Python code natively, but instead we run our code using the Python interpreter\n",
    "- There are three ways in which you can run Python code:\n",
    "    - Directly typing **commands into the interpreter**: *Good for experimenting with the language, and for some interactive work*\n",
    "    - Using a **Jupyter notebook**: *Great for experimenting with the language, and for sharing and learning*\n",
    "    - Typing code **into a file** and then telling the interpreter to run the code from this file: *Good for larger programs, and when you want to run the same code repeatedly*\n"
   ]
  },
  {
   "cell_type": "markdown",
   "metadata": {
    "slideshow": {
     "slide_type": "slide"
    }
   },
   "source": [
    "## How to start the Python interpreter?\n",
    "\n",
    "- How you start the interpreter will depend on which operating system you are using, but on a Mac or Linux machine you should start a terminal and then just type the command `python`\n",
    "- This will print out some information about your installation of python and then leave you with a command prompt which looks like `>>>` \n",
    "- You can then type commands and press `Enter` when you're done. Python will run the code you typed, and might display some output on the line below, before leaving you with another prompt.\n",
    "- If you want to exit the interactive interpreter you can type the command `quit()` or type `Ctrl-D`"
   ]
  },
  {
   "cell_type": "markdown",
   "metadata": {
    "slideshow": {
     "slide_type": "slide"
    }
   },
   "source": [
    "## The terminal\n",
    "\n",
    "<center><img src=\"files/img/python_shell.png\"></center>\n",
    "We will see later how to save code in a file and run it."
   ]
  },
  {
   "cell_type": "markdown",
   "metadata": {
    "slideshow": {
     "slide_type": "slide"
    }
   },
   "source": [
    "## The shell command lines you may need\n",
    "\n",
    "- `ls`: to list directory contents\n",
    "- `pwd`: to return working directory name\n",
    "- `cd to/this/directory/`: to change directory\n",
    "- `cat hello.py`: to print the content of a text file \n"
   ]
  },
  {
   "cell_type": "markdown",
   "metadata": {
    "slideshow": {
     "slide_type": "slide"
    }
   },
   "source": [
    "## What is a Jupyter notebook?\n",
    "\n",
    "<img src=\"http://jupyter.org/assets/nav_logo.svg\">\n",
    "\n",
    "- The [Jupyter Notebook](http://jupyter.org/) is a web application that allows you to create and share documents that contain live code, equations, visualizations and explanatory text. \n",
    "\n",
    "- Jupyter provides a rich architecture for interactive data science and scientific computing with: \n",
    "    - Over 40 programming languages such as Python, R, Julia and Scala.\n",
    "    - A browser-based notebook with support for code, rich text, math expressions, plots and other rich media.\n",
    "    - Support for interactive data visualization.\n",
    "    - Easy to use tools for parallel computing."
   ]
  },
  {
   "cell_type": "markdown",
   "metadata": {
    "slideshow": {
     "slide_type": "slide"
    }
   },
   "source": [
    "## How to install Jupyter on your own computer?\n",
    "\n",
    "<img src=\"http://jupyter.org/assets/nav_logo.svg\">\n",
    "\n",
    "- [See Installing Jupyter Notebook](https://jupyter.readthedocs.io/en/latest/install.html)\n",
    "\n",
    "- For new users, we highly recommend [installing Anaconda](https://www.continuum.io/downloads). Anaconda conveniently installs Python, the Jupyter Notebook, and other commonly used packages for scientific computing and data science.\n",
    "\n",
    "- Start the notebook server from the command line:\n",
    "```\n",
    "jupyter notebook\n",
    "```\n",
    "- You should see the notebook home page open in your web browser.\n"
   ]
  },
  {
   "cell_type": "markdown",
   "metadata": {
    "slideshow": {
     "slide_type": "slide"
    }
   },
   "source": [
    "## How to run python in a Jupyter notebook?\n",
    "\n",
    "<img src=\"http://jupyter.org/assets/nav_logo.svg\">\n",
    "\n",
    "- See [Jupyter Notebook Basics](http://nbviewer.jupyter.org/github/jupyter/notebook/blob/master/docs/source/examples/Notebook/Notebook%20Basics.ipynb)\n",
    "\n",
    "\n",
    "- Go to our notebook for the fist session: [Introduction_to_python_day_1_session_1](Introduction_to_python_day_1_session_1.ipynb)"
   ]
  }
 ],
 "metadata": {
  "celltoolbar": "Slideshow",
  "kernelspec": {
   "display_name": "Python 3",
   "language": "python",
   "name": "python3"
  },
  "language_info": {
   "codemirror_mode": {
    "name": "ipython",
    "version": 3
   },
   "file_extension": ".py",
   "mimetype": "text/x-python",
   "name": "python",
   "nbconvert_exporter": "python",
   "pygments_lexer": "ipython3"
  }
 },
 "nbformat": 4,
 "nbformat_minor": 0
}
